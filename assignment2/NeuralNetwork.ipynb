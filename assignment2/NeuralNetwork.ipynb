{
 "cells": [
  {
   "cell_type": "markdown",
   "metadata": {},
   "source": [
    "Turn the logistic regression example with SGD into a 1-hidden layer neural network with rectified linear units [nn.relu()](https://www.tensorflow.org/versions/r0.7/api_docs/python/nn.html#relu) and 1024 hidden nodes. This model should improve your validation / test accuracy."
   ]
  },
  {
   "cell_type": "code",
   "execution_count": 10,
   "metadata": {
    "collapsed": true
   },
   "outputs": [],
   "source": [
    "# These are all the modules we'll be using later. Make sure you can import them\n",
    "# before proceeding further.\n",
    "from __future__ import print_function\n",
    "import numpy as np\n",
    "import tensorflow as tf\n",
    "from six.moves import cPickle as pickle\n",
    "from six.moves import range"
   ]
  },
  {
   "cell_type": "markdown",
   "metadata": {},
   "source": [
    "First reload the data we generated in `1_notmnist.ipynb`."
   ]
  },
  {
   "cell_type": "code",
   "execution_count": 11,
   "metadata": {
    "collapsed": false
   },
   "outputs": [
    {
     "name": "stdout",
     "output_type": "stream",
     "text": [
      "Training set (200000, 28, 28) (200000,)\n",
      "Validation set (10000, 28, 28) (10000,)\n",
      "Test set (10000, 28, 28) (10000,)\n"
     ]
    }
   ],
   "source": [
    "pickle_file = '../notMNIST.pickle'\n",
    "\n",
    "with open(pickle_file, 'rb') as f:\n",
    "  save = pickle.load(f)\n",
    "  train_dataset = save['train_dataset']\n",
    "  train_labels = save['train_labels']\n",
    "  valid_dataset = save['valid_dataset']\n",
    "  valid_labels = save['valid_labels']\n",
    "  test_dataset = save['test_dataset']\n",
    "  test_labels = save['test_labels']\n",
    "  del save  # hint to help gc free up memory\n",
    "  print('Training set', train_dataset.shape, train_labels.shape)\n",
    "  print('Validation set', valid_dataset.shape, valid_labels.shape)\n",
    "  print('Test set', test_dataset.shape, test_labels.shape)"
   ]
  },
  {
   "cell_type": "markdown",
   "metadata": {},
   "source": [
    "**Reshape THE IMAGE TO 1-D vector.**"
   ]
  },
  {
   "cell_type": "code",
   "execution_count": 12,
   "metadata": {
    "collapsed": false
   },
   "outputs": [
    {
     "name": "stdout",
     "output_type": "stream",
     "text": [
      "Training set (200000, 784) (200000, 10)\n",
      "Validation set (10000, 784) (10000, 10)\n",
      "Test set (10000, 784) (10000, 10)\n"
     ]
    }
   ],
   "source": [
    "image_size = 28\n",
    "num_labels = 10\n",
    "\n",
    "def reformat(dataset, labels):\n",
    "  dataset = dataset.reshape((-1, image_size * image_size)).astype(np.float32)\n",
    "  # Map 0 to [1.0, 0.0, 0.0 ...], 1 to [0.0, 1.0, 0.0 ...]\n",
    "  labels = (np.arange(num_labels) == labels[:,None]).astype(np.float32)\n",
    "  return dataset, labels\n",
    "train_dataset, train_labels = reformat(train_dataset, train_labels)\n",
    "valid_dataset, valid_labels = reformat(valid_dataset, valid_labels)\n",
    "test_dataset, test_labels = reformat(test_dataset, test_labels)\n",
    "print('Training set', train_dataset.shape, train_labels.shape)\n",
    "print('Validation set', valid_dataset.shape, valid_labels.shape)\n",
    "print('Test set', test_dataset.shape, test_labels.shape)"
   ]
  },
  {
   "cell_type": "code",
   "execution_count": 13,
   "metadata": {
    "collapsed": true
   },
   "outputs": [],
   "source": [
    "def build_model(relu_counts, dataset):\n",
    "    with tf.variable_scope('hidden_layer') as scope:\n",
    "        try:\n",
    "            weights = tf.get_variable('weights', [image_size * image_size, relu_counts], initializer = tf.truncated_normal_initializer())\n",
    "        except ValueError:\n",
    "            scope.reuse_variables()\n",
    "            weights = tf.get_variable('weights', [image_size * image_size, relu_counts])\n",
    "        try:\n",
    "            biases = tf.get_variable('biases', [relu_counts], initializer = tf.zeros_initializer())\n",
    "        except ValueError:\n",
    "            scope.reuse_variables()\n",
    "            biases = tf.get_variable('biases', [relu_counts])\n",
    "        hidden_layer_input = tf.matmul(dataset, weights) + biases\n",
    "\n",
    "    with tf.variable_scope('relu_activation') as scope:\n",
    "        hidden_layer_output = tf.nn.relu(hidden_layer_input)\n",
    "\n",
    "    with tf.variable_scope('output_layer') as scope:\n",
    "        try:\n",
    "            weights = tf.get_variable('weights', [relu_counts, num_labels], initializer = tf.truncated_normal_initializer())\n",
    "        except ValueError:\n",
    "            scope.reuse_variables()\n",
    "            weights = tf.get_variable('weights', [relu_counts, num_labels])\n",
    "        try:\n",
    "            biases = tf.get_variable('biases', [num_labels], initializer = tf.zeros_initializer())\n",
    "        except ValueError:\n",
    "            scope.reuse_variables()\n",
    "            biases = tf.get_variable('biases', [num_labels])\n",
    "        \n",
    "        logits = tf.matmul(hidden_layer_output, weights) + biases\n",
    "\n",
    "    return logits"
   ]
  },
  {
   "cell_type": "code",
   "execution_count": 14,
   "metadata": {
    "collapsed": true
   },
   "outputs": [],
   "source": [
    "def train_model(relu_counts, train_dataset, train_labels, learning_rate):\n",
    "    logits = build_model(relu_counts, train_dataset)\n",
    "    train_predictions = tf.nn.softmax(logits)\n",
    "    loss = tf.reduce_mean(tf.nn.softmax_cross_entropy_with_logits(logits = logits, labels = train_labels))\n",
    "    optimizer = tf.train.GradientDescentOptimizer(learning_rate).minimize(loss)\n",
    "    return logits, loss, optimizer, train_predictions"
   ]
  },
  {
   "cell_type": "code",
   "execution_count": 15,
   "metadata": {
    "collapsed": true
   },
   "outputs": [],
   "source": [
    "def predict(relu_counts, dataset):\n",
    "    tf_dataset = tf.constant(dataset)\n",
    "    logits = build_model(relu_counts, tf_dataset)\n",
    "    predictions = tf.nn.softmax(logits)\n",
    "    \n",
    "    return predictions"
   ]
  },
  {
   "cell_type": "code",
   "execution_count": 16,
   "metadata": {
    "collapsed": true
   },
   "outputs": [],
   "source": [
    "def accuracy(predictions, labels):\n",
    "    return (100 * np.sum(np.argmax(predictions, axis = 1) == np.argmax(labels, axis = 1))/predictions.shape[0])"
   ]
  },
  {
   "cell_type": "code",
   "execution_count": 19,
   "metadata": {
    "collapsed": false
   },
   "outputs": [
    {
     "name": "stdout",
     "output_type": "stream",
     "text": [
      "Minibatch Loss at step 0: 384.717224\n",
      "Minibatch accuracy: 10.0%\n",
      "Minibatch Loss at step 50: 33.732559\n",
      "Minibatch accuracy: 79.0%\n",
      "Minibatch Loss at step 100: 16.710146\n",
      "Minibatch accuracy: 80.0%\n",
      "Minibatch Loss at step 150: 49.528938\n",
      "Minibatch accuracy: 75.0%\n",
      "Minibatch Loss at step 200: 54.372513\n",
      "Minibatch accuracy: 81.0%\n",
      "Minibatch Loss at step 250: 21.766233\n",
      "Minibatch accuracy: 83.0%\n",
      "Valid accuracy: 79.0%\n",
      "test accuracy: 86.0%\n"
     ]
    }
   ],
   "source": [
    "num_steps = 300\n",
    "BATCH_SIZE = 128\n",
    "RELU_COUNT = 1024\n",
    "\n",
    "train_dataset_placeholder = tf.placeholder(tf.float32, shape = [BATCH_SIZE, image_size * image_size])\n",
    "train_labels_placeholder = tf.placeholder(tf.float32, shape = [BATCH_SIZE, num_labels])\n",
    "logits, loss, optimizer, predictions = train_model(RELU_COUNT, train_dataset_placeholder, train_labels_placeholder, 0.5)\n",
    "valid_predict = predict(RELU_COUNT, valid_dataset)\n",
    "test_predict = predict(RELU_COUNT, test_dataset)\n",
    "with tf.Session() as sess:\n",
    "    tf.global_variables_initializer().run()\n",
    "    for step in range(num_steps):\n",
    "        offset = (step * BATCH_SIZE) % (train_labels.shape[0] - BATCH_SIZE)\n",
    "        batch_data = train_dataset[offset: (offset + BATCH_SIZE), :]\n",
    "        batch_labels = train_labels[offset: (offset + BATCH_SIZE), :]\n",
    "        feed_dict = {train_dataset_placeholder: batch_data, train_labels_placeholder: batch_labels}\n",
    "        \n",
    "        _, train_loss, _, train_predictions = sess.run([logits, loss, optimizer, predictions], feed_dict = feed_dict)\n",
    "        if(step % 50 == 0):\n",
    "            print(\"Minibatch Loss at step %d: %f\" % (step, train_loss))\n",
    "            print(\"Minibatch accuracy: %.1f%%\" % accuracy(train_predictions, batch_labels))\n",
    "    valid_predictions = sess.run(valid_predict)\n",
    "    test_predictions = sess.run(test_predict)\n",
    "    print(\"Valid accuracy: %.1f%%\" % accuracy(valid_predictions, valid_labels))\n",
    "    print(\"test accuracy: %.1f%%\" % accuracy(test_predictions, test_labels))"
   ]
  },
  {
   "cell_type": "code",
   "execution_count": null,
   "metadata": {
    "collapsed": true
   },
   "outputs": [],
   "source": []
  }
 ],
 "metadata": {
  "kernelspec": {
   "display_name": "Python (tensorflow)",
   "language": "python",
   "name": "tensorflow"
  },
  "language_info": {
   "codemirror_mode": {
    "name": "ipython",
    "version": 2
   },
   "file_extension": ".py",
   "mimetype": "text/x-python",
   "name": "python",
   "nbconvert_exporter": "python",
   "pygments_lexer": "ipython2",
   "version": "2.7.12"
  }
 },
 "nbformat": 4,
 "nbformat_minor": 1
}
