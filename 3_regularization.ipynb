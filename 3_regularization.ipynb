{
 "cells": [
  {
   "cell_type": "markdown",
   "metadata": {
    "colab_type": "text",
    "id": "kR-4eNdK6lYS"
   },
   "source": [
    "Deep Learning\n",
    "=============\n",
    "\n",
    "Assignment 3\n",
    "------------\n",
    "\n",
    "Previously in `2_fullyconnected.ipynb`, you trained a logistic regression and a neural network model.\n",
    "\n",
    "The goal of this assignment is to explore regularization techniques."
   ]
  },
  {
   "cell_type": "code",
   "execution_count": 52,
   "metadata": {
    "cellView": "both",
    "colab": {
     "autoexec": {
      "startup": false,
      "wait_interval": 0
     }
    },
    "colab_type": "code",
    "collapsed": true,
    "id": "JLpLa8Jt7Vu4"
   },
   "outputs": [],
   "source": [
    "# These are all the modules we'll be using later. Make sure you can import them\n",
    "# before proceeding further.\n",
    "from __future__ import print_function\n",
    "import numpy as np\n",
    "import tensorflow as tf\n",
    "from six.moves import cPickle as pickle"
   ]
  },
  {
   "cell_type": "markdown",
   "metadata": {
    "colab_type": "text",
    "id": "1HrCK6e17WzV"
   },
   "source": [
    "First reload the data we generated in _notmist.ipynb_."
   ]
  },
  {
   "cell_type": "code",
   "execution_count": 53,
   "metadata": {
    "cellView": "both",
    "colab": {
     "autoexec": {
      "startup": false,
      "wait_interval": 0
     },
     "output_extras": [
      {
       "item_id": 1
      }
     ]
    },
    "colab_type": "code",
    "collapsed": false,
    "executionInfo": {
     "elapsed": 11777,
     "status": "ok",
     "timestamp": 1449849322348,
     "user": {
      "color": "",
      "displayName": "",
      "isAnonymous": false,
      "isMe": true,
      "permissionId": "",
      "photoUrl": "",
      "sessionId": "0",
      "userId": ""
     },
     "user_tz": 480
    },
    "id": "y3-cj1bpmuxc",
    "outputId": "e03576f1-ebbe-4838-c388-f1777bcc9873"
   },
   "outputs": [
    {
     "name": "stdout",
     "output_type": "stream",
     "text": [
      "Training set (200000, 28, 28) (200000,)\n",
      "Validation set (10000, 28, 28) (10000,)\n",
      "Test set (10000, 28, 28) (10000,)\n"
     ]
    }
   ],
   "source": [
    "pickle_file = 'notMNIST.pickle'\n",
    "\n",
    "with open(pickle_file, 'rb') as f:\n",
    "  save = pickle.load(f)\n",
    "  train_dataset = save['train_dataset']\n",
    "  train_labels = save['train_labels']\n",
    "  valid_dataset = save['valid_dataset']\n",
    "  valid_labels = save['valid_labels']\n",
    "  test_dataset = save['test_dataset']\n",
    "  test_labels = save['test_labels']\n",
    "  del save  # hint to help gc free up memory\n",
    "  print('Training set', train_dataset.shape, train_labels.shape)\n",
    "  print('Validation set', valid_dataset.shape, valid_labels.shape)\n",
    "  print('Test set', test_dataset.shape, test_labels.shape)"
   ]
  },
  {
   "cell_type": "markdown",
   "metadata": {
    "colab_type": "text",
    "id": "L7aHrm6nGDMB"
   },
   "source": [
    "Reformat into a shape that's more adapted to the models we're going to train:\n",
    "- data as a flat matrix,\n",
    "- labels as float 1-hot encodings."
   ]
  },
  {
   "cell_type": "code",
   "execution_count": 54,
   "metadata": {
    "cellView": "both",
    "colab": {
     "autoexec": {
      "startup": false,
      "wait_interval": 0
     },
     "output_extras": [
      {
       "item_id": 1
      }
     ]
    },
    "colab_type": "code",
    "collapsed": false,
    "executionInfo": {
     "elapsed": 11728,
     "status": "ok",
     "timestamp": 1449849322356,
     "user": {
      "color": "",
      "displayName": "",
      "isAnonymous": false,
      "isMe": true,
      "permissionId": "",
      "photoUrl": "",
      "sessionId": "0",
      "userId": ""
     },
     "user_tz": 480
    },
    "id": "IRSyYiIIGIzS",
    "outputId": "3f8996ee-3574-4f44-c953-5c8a04636582"
   },
   "outputs": [
    {
     "name": "stdout",
     "output_type": "stream",
     "text": [
      "Training set (200000, 784) (200000, 10)\n",
      "Validation set (10000, 784) (10000, 10)\n",
      "Test set (10000, 784) (10000, 10)\n"
     ]
    }
   ],
   "source": [
    "image_size = 28\n",
    "num_labels = 10\n",
    "\n",
    "def reformat(dataset, labels):\n",
    "  dataset = dataset.reshape((-1, image_size * image_size)).astype(np.float32)\n",
    "  # Map 1 to [0.0, 1.0, 0.0 ...], 2 to [0.0, 0.0, 1.0 ...]\n",
    "  labels = (np.arange(num_labels) == labels[:,None]).astype(np.float32)\n",
    "  return dataset, labels\n",
    "train_dataset, train_labels = reformat(train_dataset, train_labels)\n",
    "valid_dataset, valid_labels = reformat(valid_dataset, valid_labels)\n",
    "test_dataset, test_labels = reformat(test_dataset, test_labels)\n",
    "print('Training set', train_dataset.shape, train_labels.shape)\n",
    "print('Validation set', valid_dataset.shape, valid_labels.shape)\n",
    "print('Test set', test_dataset.shape, test_labels.shape)"
   ]
  },
  {
   "cell_type": "code",
   "execution_count": 55,
   "metadata": {
    "cellView": "both",
    "colab": {
     "autoexec": {
      "startup": false,
      "wait_interval": 0
     }
    },
    "colab_type": "code",
    "collapsed": true,
    "id": "RajPLaL_ZW6w"
   },
   "outputs": [],
   "source": [
    "def accuracy(predictions, labels):\n",
    "  return (100.0 * np.sum(np.argmax(predictions, 1) == np.argmax(labels, 1))\n",
    "          / predictions.shape[0])"
   ]
  },
  {
   "cell_type": "markdown",
   "metadata": {
    "colab_type": "text",
    "id": "sgLbUAQ1CW-1"
   },
   "source": [
    "---\n",
    "Problem 1\n",
    "---------\n",
    "\n",
    "Introduce and tune L2 regularization for both logistic and neural network models. Remember that L2 amounts to adding a penalty on the norm of the weights to the loss. In TensorFlow, you can compute the L2 loss for a tensor `t` using `nn.l2_loss(t)`. The right amount of regularization should improve your validation / test accuracy.\n",
    "\n",
    "---"
   ]
  },
  {
   "cell_type": "markdown",
   "metadata": {},
   "source": [
    "** Add L2 regularization for logistic regression model first. Note: L2 is a penalty to the Loss function."
   ]
  },
  {
   "cell_type": "code",
   "execution_count": 44,
   "metadata": {
    "collapsed": true
   },
   "outputs": [],
   "source": [
    "batch_size = 128\n",
    "L2_weight = 0.5e-3\n",
    "\n",
    "graph = tf.Graph()\n",
    "\n",
    "with graph.as_default():\n",
    "    tf_train_dataset = tf.placeholder(tf.float32, shape=(batch_size, image_size * image_size))\n",
    "    tf_train_labels = tf.placeholder(tf.float32, shape=(batch_size, num_labels))\n",
    "    \n",
    "    tf_valid_dataset = tf.constant(valid_dataset)\n",
    "    tf_test_dataset = tf.constant(test_dataset)\n",
    "    \n",
    "    weights = tf.Variable(tf.truncated_normal([image_size * image_size, num_labels]))\n",
    "    biases = tf.Variable(tf.zeros(num_labels))\n",
    "    \n",
    "    logits = tf.matmul(tf_train_dataset, weights) + biases\n",
    "    \n",
    "    loss = tf.reduce_mean(tf.nn.softmax_cross_entropy_with_logits(logits, tf_train_labels)) + L2_weight * tf.nn.l2_loss(weights)\n",
    "    \n",
    "    optimizer = tf.train.GradientDescentOptimizer(0.1).minimize(loss)\n",
    "    \n",
    "    train_prediction = tf.nn.softmax(logits)\n",
    "    valid_prediction = tf.nn.softmax(tf.matmul(tf_valid_dataset, weights) + biases)\n",
    "    test_prediction = tf.nn.softmax(tf.matmul(tf_test_dataset, weights) + biases)"
   ]
  },
  {
   "cell_type": "code",
   "execution_count": 45,
   "metadata": {
    "collapsed": false
   },
   "outputs": [
    {
     "name": "stdout",
     "output_type": "stream",
     "text": [
      "Initialized\n",
      "Minibatch loss at step: 0: 16.580879\n",
      "Minibatch accuracy: 7.8%\n",
      "Validation dataset accuracy: 10.7%\n",
      "Minibatch loss at step: 500: 2.897196\n",
      "Minibatch accuracy: 71.9%\n",
      "Validation dataset accuracy: 70.7%\n",
      "Minibatch loss at step: 1000: 3.501479\n",
      "Minibatch accuracy: 75.0%\n",
      "Validation dataset accuracy: 73.2%\n",
      "Minibatch loss at step: 1500: 2.461379\n",
      "Minibatch accuracy: 76.6%\n",
      "Validation dataset accuracy: 74.2%\n",
      "Minibatch loss at step: 2000: 2.302784\n",
      "Minibatch accuracy: 82.0%\n",
      "Validation dataset accuracy: 75.0%\n",
      "Minibatch loss at step: 2500: 2.557680\n",
      "Minibatch accuracy: 72.7%\n",
      "Validation dataset accuracy: 75.7%\n",
      "Minibatch loss at step: 3000: 2.381720\n",
      "Minibatch accuracy: 72.7%\n",
      "Validation dataset accuracy: 76.0%\n",
      "Test dataset accuracy: 84.0%\n"
     ]
    }
   ],
   "source": [
    "num_steps = 3001\n",
    "\n",
    "with tf.Session(graph=graph) as session:\n",
    "    tf.initialize_all_variables().run()\n",
    "    print(\"Initialized\")\n",
    "    \n",
    "    for step in range(num_steps):\n",
    "        offset = (step * batch_size) % (train_labels.shape[0] - batch_size)\n",
    "        \n",
    "        batch_data = train_dataset[offset:(offset + batch_size), :]\n",
    "        batch_labels = train_labels[offset:(offset + batch_size)]\n",
    "        \n",
    "        feed_dict = {tf_train_dataset: batch_data, tf_train_labels: batch_labels}\n",
    "        _, l, predictions = session.run([optimizer, loss, train_prediction], feed_dict = feed_dict)\n",
    "        \n",
    "        if(step % 500 == 0):\n",
    "            print(\"Minibatch loss at step: %d: %f\" % (step, l))\n",
    "            print(\"Minibatch accuracy: %.1f%%\" % accuracy(predictions, batch_labels))\n",
    "            print(\"Validation dataset accuracy: %.1f%%\" % accuracy(valid_prediction.eval(), valid_labels))\n",
    "        \n",
    "    print(\"Test dataset accuracy: %.1f%%\" % accuracy(test_prediction.eval(), test_labels))"
   ]
  },
  {
   "cell_type": "markdown",
   "metadata": {},
   "source": [
    "**Learning rate: 0.1, batch_size: 128, steps: 3001. Test accuracy: 84.0%."
   ]
  },
  {
   "cell_type": "markdown",
   "metadata": {},
   "source": [
    "** Add L2 regularization for one hidden layer fully connected network."
   ]
  },
  {
   "cell_type": "code",
   "execution_count": 34,
   "metadata": {
    "collapsed": false
   },
   "outputs": [],
   "source": [
    "batch_size = 128\n",
    "relu_count = 1024\n",
    "L2_weight = 0.5e-3\n",
    "\n",
    "graph_nn_l2 = tf.Graph()\n",
    "with graph_nn_l2.as_default():\n",
    "    tf_train_dataset = tf.placeholder(tf.float32, shape=(batch_size, image_size * image_size))\n",
    "    tf_train_labels = tf.placeholder(tf.float32, shape=(batch_size, num_labels))\n",
    "    \n",
    "    tf_valid_dataset = tf.constant(valid_dataset)\n",
    "    tf_test_dataset = tf.constant(test_dataset)\n",
    "    \n",
    "    weights_hidden_layer = tf.Variable(tf.truncated_normal([image_size * image_size, relu_count]))\n",
    "    biases_hidden_layer = tf.Variable(tf.zeros(relu_count))\n",
    "    \n",
    "    weights_output_layer = tf.Variable(tf.truncated_normal([relu_count, num_labels]))\n",
    "    biases_output_layer = tf.Variable(tf.zeros(num_labels))\n",
    "    \n",
    "    hidden_layer_output = tf.nn.relu(tf.matmul(tf_train_dataset, weights_hidden_layer) + biases_hidden_layer)\n",
    "    \n",
    "    logits = tf.matmul(hidden_layer_output, weights_output_layer) + biases_output_layer\n",
    "    \n",
    "    loss = tf.reduce_mean(tf.nn.softmax_cross_entropy_with_logits(logits, tf_train_labels))\\\n",
    "    + L2_weight * (tf.nn.l2_loss(weights_hidden_layer) + tf.nn.l2_loss(weights_output_layer))\n",
    "    \n",
    "    optimizer = tf.train.GradientDescentOptimizer(0.5).minimize(loss)\n",
    "    \n",
    "    train_prediction = tf.nn.softmax(logits)\n",
    "    valid_prediction = tf.nn.softmax(\n",
    "        tf.matmul(tf.nn.relu(\n",
    "                tf.matmul(tf_valid_dataset, weights_hidden_layer) + biases_hidden_layer),\n",
    "                  weights_output_layer) \n",
    "        + biases_output_layer)\n",
    "    \n",
    "    test_prediction = tf.nn.softmax(\n",
    "        tf.matmul(tf.nn.relu(\n",
    "                tf.matmul(tf_test_dataset, weights_hidden_layer) + biases_hidden_layer),\n",
    "                  weights_output_layer)\n",
    "        + biases_output_layer)"
   ]
  },
  {
   "cell_type": "code",
   "execution_count": 35,
   "metadata": {
    "collapsed": false
   },
   "outputs": [
    {
     "name": "stdout",
     "output_type": "stream",
     "text": [
      "Initialized\n",
      "Minibatch loss at step: 0: 471.538483\n",
      "Minibatch accuracy: 12.5%\n",
      "Validation dataset accuracy: 32.7%\n",
      "Minibatch loss at step: 500: 142.494095\n",
      "Minibatch accuracy: 84.4%\n",
      "Validation dataset accuracy: 79.5%\n",
      "Minibatch loss at step: 1000: 99.143898\n",
      "Minibatch accuracy: 78.1%\n",
      "Validation dataset accuracy: 81.2%\n",
      "Minibatch loss at step: 1500: 73.990669\n",
      "Minibatch accuracy: 89.1%\n",
      "Validation dataset accuracy: 82.2%\n",
      "Minibatch loss at step: 2000: 56.160179\n",
      "Minibatch accuracy: 88.3%\n",
      "Validation dataset accuracy: 82.2%\n",
      "Minibatch loss at step: 2500: 43.564430\n",
      "Minibatch accuracy: 86.7%\n",
      "Validation dataset accuracy: 83.5%\n",
      "Minibatch loss at step: 3000: 33.949070\n",
      "Minibatch accuracy: 88.3%\n",
      "Validation dataset accuracy: 84.4%\n",
      "Test dataset accuracy: 91.6%\n"
     ]
    }
   ],
   "source": [
    "num_steps = 3001\n",
    "\n",
    "with tf.Session(graph=graph_nn_l2) as session:\n",
    "    tf.initialize_all_variables().run()\n",
    "    print(\"Initialized\")\n",
    "    \n",
    "    for step in range(num_steps):\n",
    "        offset = (step * batch_size) % (train_labels.shape[0] - batch_size)\n",
    "        \n",
    "        batch_data = train_dataset[offset:(offset + batch_size), :]\n",
    "        batch_labels = train_labels[offset:(offset + batch_size)]\n",
    "        \n",
    "        feed_dict = {tf_train_dataset: batch_data, tf_train_labels: batch_labels}\n",
    "        _, l, predictions = session.run([optimizer, loss, train_prediction], feed_dict = feed_dict)\n",
    "        \n",
    "        if(step % 500 == 0):\n",
    "            print(\"Minibatch loss at step: %d: %f\" % (step, l))\n",
    "            print(\"Minibatch accuracy: %.1f%%\" % accuracy(predictions, batch_labels))\n",
    "            print(\"Validation dataset accuracy: %.1f%%\" % accuracy(valid_prediction.eval(), valid_labels))\n",
    "        \n",
    "    print(\"Test dataset accuracy: %.1f%%\" % accuracy(test_prediction.eval(), test_labels))"
   ]
  },
  {
   "cell_type": "markdown",
   "metadata": {},
   "source": [
    "Test accuracy: 91.3%, so far, so good."
   ]
  },
  {
   "cell_type": "markdown",
   "metadata": {
    "colab_type": "text",
    "id": "na8xX2yHZzNF"
   },
   "source": [
    "---\n",
    "Problem 2\n",
    "---------\n",
    "Let's demonstrate an extreme case of overfitting. Restrict your training data to just a few batches. What happens?\n",
    "\n",
    "---"
   ]
  },
  {
   "cell_type": "code",
   "execution_count": 37,
   "metadata": {
    "collapsed": false
   },
   "outputs": [
    {
     "name": "stdout",
     "output_type": "stream",
     "text": [
      "Initialized\n",
      "Minibatch loss at step: 0: 612.910034\n",
      "Minibatch accuracy: 8.6%\n",
      "Validation dataset accuracy: 38.6%\n",
      "Minibatch loss at step: 500: 122.551140\n",
      "Minibatch accuracy: 100.0%\n",
      "Validation dataset accuracy: 75.2%\n",
      "Minibatch loss at step: 1000: 95.439880\n",
      "Minibatch accuracy: 100.0%\n",
      "Validation dataset accuracy: 75.2%\n",
      "Minibatch loss at step: 1500: 74.326385\n",
      "Minibatch accuracy: 100.0%\n",
      "Validation dataset accuracy: 75.3%\n",
      "Minibatch loss at step: 2000: 57.883617\n",
      "Minibatch accuracy: 100.0%\n",
      "Validation dataset accuracy: 75.3%\n",
      "Minibatch loss at step: 2500: 45.078438\n",
      "Minibatch accuracy: 100.0%\n",
      "Validation dataset accuracy: 75.3%\n",
      "Minibatch loss at step: 3000: 35.106117\n",
      "Minibatch accuracy: 100.0%\n",
      "Validation dataset accuracy: 75.4%\n",
      "Test dataset accuracy: 83.2%\n"
     ]
    }
   ],
   "source": [
    "num_steps = 3001\n",
    "small_batch_data = train_dataset[:batch_size * 7, :]\n",
    "small_batch_labels = train_labels[:batch_size * 7]\n",
    "with tf.Session(graph=graph_nn_l2) as session:\n",
    "    tf.initialize_all_variables().run()\n",
    "    print(\"Initialized\")\n",
    "    \n",
    "    for step in range(num_steps):\n",
    "        offset = (step * batch_size) % (small_batch_data.shape[0] - batch_size)\n",
    "        \n",
    "        batch_data = small_batch_data[offset:(offset + batch_size), :]\n",
    "        batch_labels = small_batch_labels[offset:(offset + batch_size)]\n",
    "        \n",
    "        feed_dict = {tf_train_dataset: batch_data, tf_train_labels: batch_labels}\n",
    "        _, l, predictions = session.run([optimizer, loss, train_prediction], feed_dict = feed_dict)\n",
    "        \n",
    "        if(step % 500 == 0):\n",
    "            print(\"Minibatch loss at step: %d: %f\" % (step, l))\n",
    "            print(\"Minibatch accuracy: %.1f%%\" % accuracy(predictions, batch_labels))\n",
    "            print(\"Validation dataset accuracy: %.1f%%\" % accuracy(valid_prediction.eval(), valid_labels))\n",
    "        \n",
    "    print(\"Test dataset accuracy: %.1f%%\" % accuracy(test_prediction.eval(), test_labels))"
   ]
  },
  {
   "cell_type": "markdown",
   "metadata": {},
   "source": [
    "Training dataset accuracy reaches 100% very quickly, and the final test dataset accuracy is, in fact, not as bad as I expect."
   ]
  },
  {
   "cell_type": "markdown",
   "metadata": {
    "colab_type": "text",
    "id": "ww3SCBUdlkRc"
   },
   "source": [
    "---\n",
    "Problem 3\n",
    "---------\n",
    "Introduce Dropout on the hidden layer of the neural network. Remember: Dropout should only be introduced during training, not evaluation, otherwise your evaluation results would be stochastic as well. TensorFlow provides `nn.dropout()` for that, but you have to make sure it's only inserted during training.\n",
    "\n",
    "What happens to our extreme overfitting case?\n",
    "\n",
    "---"
   ]
  },
  {
   "cell_type": "markdown",
   "metadata": {},
   "source": [
    "** Apply drop out to one hidden layer neural network. Too see if it's better than L2 norm."
   ]
  },
  {
   "cell_type": "code",
   "execution_count": 73,
   "metadata": {
    "collapsed": false
   },
   "outputs": [],
   "source": [
    "batch_size = 128\n",
    "relu_count = 1024\n",
    "L2_weight = 0.5e-3\n",
    "\n",
    "graph_nn_dropout = tf.Graph()\n",
    "with graph_nn_dropout.as_default():\n",
    "    tf_train_dataset = tf.placeholder(tf.float32, shape=(batch_size, image_size * image_size))\n",
    "    tf_train_labels = tf.placeholder(tf.float32, shape=(batch_size, num_labels))\n",
    "    \n",
    "    tf_valid_dataset = tf.constant(valid_dataset)\n",
    "    tf_test_dataset = tf.constant(test_dataset)\n",
    "    \n",
    "    weights_hidden_layer = tf.Variable(tf.truncated_normal([image_size * image_size, relu_count]))\n",
    "    biases_hidden_layer = tf.Variable(tf.zeros(relu_count))\n",
    "    \n",
    "    weights_output_layer = tf.Variable(tf.truncated_normal([relu_count, num_labels]))\n",
    "    biases_output_layer = tf.Variable(tf.zeros(num_labels))\n",
    "    \n",
    "    hidden_layer_output = tf.nn.relu(tf.matmul(tf_train_dataset, weights_hidden_layer) + biases_hidden_layer)\n",
    "    \n",
    "#   apply drop out.\n",
    "    dropout_probablity = tf.constant(0.5)\n",
    "    output_layer_activition = tf.nn.dropout(hidden_layer_output, dropout_probablity)\n",
    "    \n",
    "    logits = tf.matmul(output_layer_activition, weights_output_layer) + biases_output_layer\\\n",
    "    + L2_weight * (tf.nn.l2_loss(weights_hidden_layer) + tf.nn.l2_loss(weights_output_layer))\n",
    "    \n",
    "    loss = tf.reduce_mean(tf.nn.softmax_cross_entropy_with_logits(logits, tf_train_labels))\n",
    "    \n",
    "    optimizer = tf.train.GradientDescentOptimizer(0.5e-2).minimize(loss)\n",
    "    \n",
    "    train_prediction = tf.nn.softmax(\n",
    "        tf.matmul(tf.nn.relu(\n",
    "                tf.matmul(tf_train_dataset, weights_hidden_layer) + biases_hidden_layer),\n",
    "                  weights_output_layer) \n",
    "        + biases_output_layer)\n",
    "    \n",
    "    valid_prediction = tf.nn.softmax(\n",
    "        tf.matmul(tf.nn.relu(\n",
    "                tf.matmul(tf_valid_dataset, weights_hidden_layer) + biases_hidden_layer),\n",
    "                  weights_output_layer) \n",
    "        + biases_output_layer)\n",
    "    \n",
    "    test_prediction = tf.nn.softmax(\n",
    "        tf.matmul(tf.nn.relu(\n",
    "                tf.matmul(tf_test_dataset, weights_hidden_layer) + biases_hidden_layer),\n",
    "                  weights_output_layer)\n",
    "        + biases_output_layer)"
   ]
  },
  {
   "cell_type": "code",
   "execution_count": 75,
   "metadata": {
    "collapsed": false
   },
   "outputs": [
    {
     "name": "stdout",
     "output_type": "stream",
     "text": [
      "Initialized\n",
      "Minibatch loss at step: 0: 487.267212\n",
      "Minibatch accuracy: 7.0%\n",
      "Validation dataset accuracy: 10.0%\n",
      "Minibatch loss at step: 500: 99.905197\n",
      "Minibatch accuracy: 82.0%\n",
      "Validation dataset accuracy: 78.3%\n",
      "Minibatch loss at step: 1000: 97.113907\n",
      "Minibatch accuracy: 77.3%\n",
      "Validation dataset accuracy: 80.3%\n",
      "Minibatch loss at step: 1500: 63.341541\n",
      "Minibatch accuracy: 85.2%\n",
      "Validation dataset accuracy: 80.9%\n",
      "Minibatch loss at step: 2000: 61.027161\n",
      "Minibatch accuracy: 86.7%\n",
      "Validation dataset accuracy: 81.6%\n",
      "Minibatch loss at step: 2500: 61.532345\n",
      "Minibatch accuracy: 82.8%\n",
      "Validation dataset accuracy: 81.9%\n",
      "Minibatch loss at step: 3000: 51.948311\n",
      "Minibatch accuracy: 80.5%\n",
      "Validation dataset accuracy: 82.2%\n",
      "Minibatch loss at step: 3500: 66.544884\n",
      "Minibatch accuracy: 83.6%\n",
      "Validation dataset accuracy: 82.8%\n",
      "Minibatch loss at step: 4000: 38.978706\n",
      "Minibatch accuracy: 85.2%\n",
      "Validation dataset accuracy: 83.0%\n",
      "Minibatch loss at step: 4500: 29.721146\n",
      "Minibatch accuracy: 85.2%\n",
      "Validation dataset accuracy: 83.0%\n",
      "Minibatch loss at step: 5000: 36.388390\n",
      "Minibatch accuracy: 85.2%\n",
      "Validation dataset accuracy: 83.2%\n",
      "Minibatch loss at step: 5500: 42.178047\n",
      "Minibatch accuracy: 81.2%\n",
      "Validation dataset accuracy: 83.1%\n",
      "Minibatch loss at step: 6000: 37.169926\n",
      "Minibatch accuracy: 79.7%\n",
      "Validation dataset accuracy: 83.4%\n",
      "Test dataset accuracy: 90.6%\n"
     ]
    }
   ],
   "source": [
    "num_steps = 6001\n",
    "with tf.Session(graph=graph_nn_dropout) as session:\n",
    "    tf.initialize_all_variables().run()\n",
    "    print(\"Initialized\")\n",
    "    \n",
    "    for step in range(num_steps):\n",
    "        offset = (step * batch_size) % (train_dataset.shape[0] - batch_size)\n",
    "        \n",
    "        batch_data = train_dataset[offset:(offset + batch_size), :]\n",
    "        batch_labels = train_labels[offset:(offset + batch_size)]\n",
    "        \n",
    "        feed_dict = {tf_train_dataset: batch_data, tf_train_labels: batch_labels}\n",
    "        _, l, predictions = session.run([optimizer, loss, train_prediction], feed_dict = feed_dict)\n",
    "        if(step % 500 == 0):\n",
    "            print(\"Minibatch loss at step: %d: %f\" % (step, l))\n",
    "            print(\"Minibatch accuracy: %.1f%%\" % accuracy(predictions, batch_labels))\n",
    "            print(\"Validation dataset accuracy: %.1f%%\" % accuracy(valid_prediction.eval(), valid_labels))\n",
    "        \n",
    "    print(\"Test dataset accuracy: %.1f%%\" % accuracy(test_prediction.eval(), test_labels))"
   ]
  },
  {
   "cell_type": "markdown",
   "metadata": {},
   "source": [
    "1. Hidden layer neurons: 1024, learning rate: 0.5, num_steps: 3001. With dropout only, Test accuracy: 87.5%\n",
    "2. Hidden layer neurons: 1024, learning rate: 0.5, num_steps: 3001. dropout + L2 norm, Test accuracy: 87.2%\n",
    "3. Hidden layer neurons: 1024, learning rate: 0.05, num_steps: 3001. dropout + L2 norm, Test accuracy: 90.6%\n",
    "4. 3. Hidden layer neurons: 1024, learning rate: 0.05, num_steps: 6001. dropout + L2 norm, Test accuracy: 90.6%"
   ]
  },
  {
   "cell_type": "markdown",
   "metadata": {
    "colab_type": "text",
    "id": "-b1hTz3VWZjw"
   },
   "source": [
    "---\n",
    "Problem 4\n",
    "---------\n",
    "\n",
    "Try to get the best performance you can using a multi-layer model! The best reported test accuracy using a deep network is [97.1%](http://yaroslavvb.blogspot.com/2011/09/notmnist-dataset.html?showComment=1391023266211#c8758720086795711595).\n",
    "\n",
    "One avenue you can explore is to add multiple layers.\n",
    "\n",
    "Another one is to use learning rate decay:\n",
    "\n",
    "    global_step = tf.Variable(0)  # count the number of steps taken.\n",
    "    learning_rate = tf.train.exponential_decay(0.5, global_step, ...)\n",
    "    optimizer = tf.train.GradientDescentOptimizer(learning_rate).minimize(loss, global_step=global_step)\n",
    " \n",
    " ---\n"
   ]
  }
 ],
 "metadata": {
  "colab": {
   "default_view": {},
   "name": "3_regularization.ipynb",
   "provenance": [],
   "version": "0.3.2",
   "views": {}
  },
  "kernelspec": {
   "display_name": "Python 2",
   "language": "python",
   "name": "python2"
  },
  "language_info": {
   "codemirror_mode": {
    "name": "ipython",
    "version": 2
   },
   "file_extension": ".py",
   "mimetype": "text/x-python",
   "name": "python",
   "nbconvert_exporter": "python",
   "pygments_lexer": "ipython2",
   "version": "2.7.12"
  }
 },
 "nbformat": 4,
 "nbformat_minor": 0
}
