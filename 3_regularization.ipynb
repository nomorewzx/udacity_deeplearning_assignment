{
 "cells": [
  {
   "cell_type": "markdown",
   "metadata": {
    "colab_type": "text",
    "id": "kR-4eNdK6lYS"
   },
   "source": [
    "Deep Learning\n",
    "=============\n",
    "\n",
    "Assignment 3\n",
    "------------\n",
    "\n",
    "Previously in `2_fullyconnected.ipynb`, you trained a logistic regression and a neural network model.\n",
    "\n",
    "The goal of this assignment is to explore regularization techniques."
   ]
  },
  {
   "cell_type": "code",
   "execution_count": 1,
   "metadata": {
    "cellView": "both",
    "colab": {
     "autoexec": {
      "startup": false,
      "wait_interval": 0
     }
    },
    "colab_type": "code",
    "collapsed": true,
    "id": "JLpLa8Jt7Vu4"
   },
   "outputs": [],
   "source": [
    "# These are all the modules we'll be using later. Make sure you can import them\n",
    "# before proceeding further.\n",
    "from __future__ import print_function\n",
    "import numpy as np\n",
    "import tensorflow as tf\n",
    "from six.moves import cPickle as pickle"
   ]
  },
  {
   "cell_type": "markdown",
   "metadata": {
    "colab_type": "text",
    "id": "1HrCK6e17WzV"
   },
   "source": [
    "First reload the data we generated in _notmist.ipynb_."
   ]
  },
  {
   "cell_type": "code",
   "execution_count": 2,
   "metadata": {
    "cellView": "both",
    "colab": {
     "autoexec": {
      "startup": false,
      "wait_interval": 0
     },
     "output_extras": [
      {
       "item_id": 1
      }
     ]
    },
    "colab_type": "code",
    "collapsed": false,
    "executionInfo": {
     "elapsed": 11777,
     "status": "ok",
     "timestamp": 1449849322348,
     "user": {
      "color": "",
      "displayName": "",
      "isAnonymous": false,
      "isMe": true,
      "permissionId": "",
      "photoUrl": "",
      "sessionId": "0",
      "userId": ""
     },
     "user_tz": 480
    },
    "id": "y3-cj1bpmuxc",
    "outputId": "e03576f1-ebbe-4838-c388-f1777bcc9873"
   },
   "outputs": [
    {
     "name": "stdout",
     "output_type": "stream",
     "text": [
      "Training set (200000, 28, 28) (200000,)\n",
      "Validation set (10000, 28, 28) (10000,)\n",
      "Test set (10000, 28, 28) (10000,)\n"
     ]
    }
   ],
   "source": [
    "pickle_file = 'notMNIST.pickle'\n",
    "\n",
    "with open(pickle_file, 'rb') as f:\n",
    "  save = pickle.load(f)\n",
    "  train_dataset = save['train_dataset']\n",
    "  train_labels = save['train_labels']\n",
    "  valid_dataset = save['valid_dataset']\n",
    "  valid_labels = save['valid_labels']\n",
    "  test_dataset = save['test_dataset']\n",
    "  test_labels = save['test_labels']\n",
    "  del save  # hint to help gc free up memory\n",
    "  print('Training set', train_dataset.shape, train_labels.shape)\n",
    "  print('Validation set', valid_dataset.shape, valid_labels.shape)\n",
    "  print('Test set', test_dataset.shape, test_labels.shape)"
   ]
  },
  {
   "cell_type": "markdown",
   "metadata": {
    "colab_type": "text",
    "id": "L7aHrm6nGDMB"
   },
   "source": [
    "Reformat into a shape that's more adapted to the models we're going to train:\n",
    "- data as a flat matrix,\n",
    "- labels as float 1-hot encodings."
   ]
  },
  {
   "cell_type": "code",
   "execution_count": 3,
   "metadata": {
    "cellView": "both",
    "colab": {
     "autoexec": {
      "startup": false,
      "wait_interval": 0
     },
     "output_extras": [
      {
       "item_id": 1
      }
     ]
    },
    "colab_type": "code",
    "collapsed": false,
    "executionInfo": {
     "elapsed": 11728,
     "status": "ok",
     "timestamp": 1449849322356,
     "user": {
      "color": "",
      "displayName": "",
      "isAnonymous": false,
      "isMe": true,
      "permissionId": "",
      "photoUrl": "",
      "sessionId": "0",
      "userId": ""
     },
     "user_tz": 480
    },
    "id": "IRSyYiIIGIzS",
    "outputId": "3f8996ee-3574-4f44-c953-5c8a04636582"
   },
   "outputs": [
    {
     "name": "stdout",
     "output_type": "stream",
     "text": [
      "Training set (200000, 784) (200000, 10)\n",
      "Validation set (10000, 784) (10000, 10)\n",
      "Test set (10000, 784) (10000, 10)\n"
     ]
    }
   ],
   "source": [
    "image_size = 28\n",
    "num_labels = 10\n",
    "\n",
    "def reformat(dataset, labels):\n",
    "  dataset = dataset.reshape((-1, image_size * image_size)).astype(np.float32)\n",
    "  # Map 1 to [0.0, 1.0, 0.0 ...], 2 to [0.0, 0.0, 1.0 ...]\n",
    "  labels = (np.arange(num_labels) == labels[:,None]).astype(np.float32)\n",
    "  return dataset, labels\n",
    "train_dataset, train_labels = reformat(train_dataset, train_labels)\n",
    "valid_dataset, valid_labels = reformat(valid_dataset, valid_labels)\n",
    "test_dataset, test_labels = reformat(test_dataset, test_labels)\n",
    "print('Training set', train_dataset.shape, train_labels.shape)\n",
    "print('Validation set', valid_dataset.shape, valid_labels.shape)\n",
    "print('Test set', test_dataset.shape, test_labels.shape)"
   ]
  },
  {
   "cell_type": "code",
   "execution_count": 4,
   "metadata": {
    "cellView": "both",
    "colab": {
     "autoexec": {
      "startup": false,
      "wait_interval": 0
     }
    },
    "colab_type": "code",
    "collapsed": true,
    "id": "RajPLaL_ZW6w"
   },
   "outputs": [],
   "source": [
    "def accuracy(predictions, labels):\n",
    "  return (100.0 * np.sum(np.argmax(predictions, 1) == np.argmax(labels, 1))\n",
    "          / predictions.shape[0])"
   ]
  },
  {
   "cell_type": "markdown",
   "metadata": {
    "colab_type": "text",
    "id": "sgLbUAQ1CW-1"
   },
   "source": [
    "---\n",
    "Problem 1.1\n",
    "---------\n",
    "\n",
    "Introduce and tune L2 regularization for both logistic and neural network models. Remember that L2 amounts to adding a penalty on the norm of the weights to the loss. In TensorFlow, you can compute the L2 loss for a tensor `t` using `nn.l2_loss(t)`. The right amount of regularization should improve your validation / test accuracy.\n",
    "\n",
    "---"
   ]
  },
  {
   "cell_type": "markdown",
   "metadata": {},
   "source": [
    "** Add L2 regularization for logistic regression model first. Note: L2 is a penalty to the Loss function."
   ]
  },
  {
   "cell_type": "code",
   "execution_count": 25,
   "metadata": {
    "collapsed": false
   },
   "outputs": [],
   "source": [
    "batch_size = 128\n",
    "LR = 1e-1\n",
    "L2_weight = 0.5e-3\n",
    "graph = tf.Graph()\n",
    "\n",
    "def apply_l2_norm(l2_weight, weights):\n",
    "    return l2_weight * tf.nn.l2_loss(weights)\n",
    "\n",
    "def build_loss_with_l2_norm(logits, train_labels, weights):\n",
    "#     + apply_l2_norm(L2_weight, weights)\n",
    "    return tf.reduce_mean(tf.nn.softmax_cross_entropy_with_logits(logits = logits, labels = train_labels))\n",
    "\n",
    "with graph.as_default():\n",
    "    tf_train_dataset = tf.placeholder(tf.float32, shape=(batch_size, image_size * image_size))\n",
    "    tf_train_labels = tf.placeholder(tf.float32, shape=(batch_size, num_labels))\n",
    "    \n",
    "    tf_valid_dataset = tf.constant(valid_dataset)\n",
    "    tf_test_dataset = tf.constant(test_dataset)\n",
    "    \n",
    "    weights = tf.Variable(tf.truncated_normal([image_size * image_size, num_labels]))\n",
    "    biases = tf.Variable(tf.zeros(num_labels))\n",
    "    \n",
    "    logits = tf.matmul(tf_train_dataset, weights) + biases\n",
    "    \n",
    "    loss = build_loss_with_l2_norm(logits, tf_train_labels, weights)\n",
    "    \n",
    "    optimizer = tf.train.GradientDescentOptimizer(LR).minimize(loss)\n",
    "    \n",
    "    train_prediction = tf.nn.softmax(logits)\n",
    "    valid_prediction = tf.nn.softmax(tf.matmul(tf_valid_dataset, weights) + biases)\n",
    "    test_prediction = tf.nn.softmax(tf.matmul(tf_test_dataset, weights) + biases)"
   ]
  },
  {
   "cell_type": "code",
   "execution_count": 26,
   "metadata": {
    "collapsed": false
   },
   "outputs": [
    {
     "name": "stdout",
     "output_type": "stream",
     "text": [
      "WARNING:tensorflow:From <ipython-input-26-71040e7faaae>:4: initialize_all_variables (from tensorflow.python.ops.variables) is deprecated and will be removed after 2017-03-02.\n",
      "Instructions for updating:\n",
      "Use `tf.global_variables_initializer` instead.\n",
      "Initialized\n",
      "Minibatch loss at step: 0: 20.485775\n",
      "Minibatch accuracy: 9.4%\n",
      "Validation dataset accuracy: 10.5%\n",
      "Minibatch loss at step: 500: 2.165907\n",
      "Minibatch accuracy: 68.0%\n",
      "Validation dataset accuracy: 71.4%\n",
      "Minibatch loss at step: 1000: 2.246017\n",
      "Minibatch accuracy: 71.1%\n",
      "Validation dataset accuracy: 73.8%\n",
      "Minibatch loss at step: 1500: 1.350790\n",
      "Minibatch accuracy: 81.2%\n",
      "Validation dataset accuracy: 74.9%\n",
      "Minibatch loss at step: 2000: 1.279726\n",
      "Minibatch accuracy: 78.1%\n",
      "Validation dataset accuracy: 75.2%\n",
      "Minibatch loss at step: 2500: 1.697566\n",
      "Minibatch accuracy: 69.5%\n",
      "Validation dataset accuracy: 75.9%\n",
      "Minibatch loss at step: 3000: 1.640931\n",
      "Minibatch accuracy: 71.9%\n",
      "Validation dataset accuracy: 76.1%\n",
      "Minibatch loss at step: 3500: 1.499397\n",
      "Minibatch accuracy: 73.4%\n",
      "Validation dataset accuracy: 76.3%\n",
      "Minibatch loss at step: 4000: 1.079835\n",
      "Minibatch accuracy: 76.6%\n",
      "Validation dataset accuracy: 76.5%\n",
      "Minibatch loss at step: 4500: 1.274166\n",
      "Minibatch accuracy: 81.2%\n",
      "Validation dataset accuracy: 76.8%\n",
      "Minibatch loss at step: 5000: 0.816466\n",
      "Minibatch accuracy: 81.2%\n",
      "Validation dataset accuracy: 77.0%\n",
      "Minibatch loss at step: 5500: 1.232823\n",
      "Minibatch accuracy: 76.6%\n",
      "Validation dataset accuracy: 77.1%\n",
      "Minibatch loss at step: 6000: 1.198568\n",
      "Minibatch accuracy: 76.6%\n",
      "Validation dataset accuracy: 77.2%\n",
      "Minibatch loss at step: 6500: 0.786354\n",
      "Minibatch accuracy: 81.2%\n",
      "Validation dataset accuracy: 77.3%\n",
      "Minibatch loss at step: 7000: 1.309953\n",
      "Minibatch accuracy: 75.0%\n",
      "Validation dataset accuracy: 77.3%\n",
      "Minibatch loss at step: 7500: 1.285397\n",
      "Minibatch accuracy: 76.6%\n",
      "Validation dataset accuracy: 77.8%\n",
      "Minibatch loss at step: 8000: 1.827786\n",
      "Minibatch accuracy: 69.5%\n",
      "Validation dataset accuracy: 77.8%\n",
      "Minibatch loss at step: 8500: 0.779790\n",
      "Minibatch accuracy: 82.8%\n",
      "Validation dataset accuracy: 77.8%\n",
      "Minibatch loss at step: 9000: 1.108506\n",
      "Minibatch accuracy: 78.1%\n",
      "Validation dataset accuracy: 78.1%\n",
      "Test dataset accuracy: 85.3%\n"
     ]
    }
   ],
   "source": [
    "num_steps = 9001\n",
    "\n",
    "with tf.Session(graph=graph) as session:\n",
    "    tf.initialize_all_variables().run()\n",
    "    print(\"Initialized\")\n",
    "    \n",
    "    for step in range(num_steps):\n",
    "        offset = (step * batch_size) % (train_labels.shape[0] - batch_size)\n",
    "        \n",
    "        batch_data = train_dataset[offset:(offset + batch_size), :]\n",
    "        batch_labels = train_labels[offset:(offset + batch_size)]\n",
    "        \n",
    "        feed_dict = {tf_train_dataset: batch_data, tf_train_labels: batch_labels}\n",
    "        _, l, predictions = session.run([optimizer, loss, train_prediction], feed_dict = feed_dict)\n",
    "        if(step % 500 == 0):\n",
    "            print(\"Minibatch loss at step: %d: %f\" % (step, l))\n",
    "            print(\"Minibatch accuracy: %.1f%%\" % accuracy(predictions, batch_labels))\n",
    "            print(\"Validation dataset accuracy: %.1f%%\" % accuracy(valid_prediction.eval(), valid_labels))\n",
    "        \n",
    "    print(\"Test dataset accuracy: %.1f%%\" % accuracy(test_prediction.eval(), test_labels))"
   ]
  },
  {
   "cell_type": "markdown",
   "metadata": {},
   "source": [
    "**Learning rate: 0.1, batch_size: 128, steps: 9001(5.7 epoch), Test accuracy: 84.0%.**"
   ]
  },
  {
   "cell_type": "markdown",
   "metadata": {},
   "source": [
    "---\n",
    "Problem 1.2\n",
    "---------\n",
    "Add L2 regularization for one hidden layer fully connected network."
   ]
  },
  {
   "cell_type": "code",
   "execution_count": 28,
   "metadata": {
    "collapsed": false
   },
   "outputs": [],
   "source": [
    "batch_size = 128\n",
    "relu_count = 1024\n",
    "L2_weight = 0.5e-3\n",
    "\n",
    "graph_nn_l2 = tf.Graph()\n",
    "with graph_nn_l2.as_default():\n",
    "    tf_train_dataset = tf.placeholder(tf.float32, shape=(batch_size, image_size * image_size))\n",
    "    tf_train_labels = tf.placeholder(tf.float32, shape=(batch_size, num_labels))\n",
    "    \n",
    "    tf_valid_dataset = tf.constant(valid_dataset)\n",
    "    tf_test_dataset = tf.constant(test_dataset)\n",
    "    \n",
    "    weights_hidden_layer = tf.Variable(tf.truncated_normal([image_size * image_size, relu_count]))\n",
    "    biases_hidden_layer = tf.Variable(tf.zeros(relu_count))\n",
    "    \n",
    "    weights_output_layer = tf.Variable(tf.truncated_normal([relu_count, num_labels]))\n",
    "    biases_output_layer = tf.Variable(tf.zeros(num_labels))\n",
    "    \n",
    "    hidden_layer_output = tf.nn.relu(tf.matmul(tf_train_dataset, weights_hidden_layer) + biases_hidden_layer)\n",
    "    \n",
    "    logits = tf.matmul(hidden_layer_output, weights_output_layer) + biases_output_layer\n",
    "    \n",
    "    loss = tf.reduce_mean(tf.nn.softmax_cross_entropy_with_logits(logits = logits, labels = tf_train_labels))\\\n",
    "    + L2_weight * (tf.nn.l2_loss(weights_hidden_layer) + tf.nn.l2_loss(weights_output_layer))\n",
    "    \n",
    "    optimizer = tf.train.GradientDescentOptimizer(0.5).minimize(loss)\n",
    "    \n",
    "    train_prediction = tf.nn.softmax(logits)\n",
    "    valid_prediction = tf.nn.softmax(\n",
    "        tf.matmul(tf.nn.relu(\n",
    "                tf.matmul(tf_valid_dataset, weights_hidden_layer) + biases_hidden_layer),\n",
    "                  weights_output_layer) \n",
    "        + biases_output_layer)\n",
    "    \n",
    "    test_prediction = tf.nn.softmax(\n",
    "        tf.matmul(tf.nn.relu(\n",
    "                tf.matmul(tf_test_dataset, weights_hidden_layer) + biases_hidden_layer),\n",
    "                  weights_output_layer)\n",
    "        + biases_output_layer)"
   ]
  },
  {
   "cell_type": "code",
   "execution_count": 30,
   "metadata": {
    "collapsed": false
   },
   "outputs": [
    {
     "name": "stdout",
     "output_type": "stream",
     "text": [
      "WARNING:tensorflow:From <ipython-input-30-8be09465942a>:4: initialize_all_variables (from tensorflow.python.ops.variables) is deprecated and will be removed after 2017-03-02.\n",
      "Instructions for updating:\n",
      "Use `tf.global_variables_initializer` instead.\n",
      "Initialized\n",
      "Minibatch loss at step: 0: 465.564636\n",
      "Minibatch accuracy: 11.7%\n",
      "Validation dataset accuracy: 23.8%\n",
      "Minibatch loss at step: 500: 128.918060\n",
      "Minibatch accuracy: 83.6%\n",
      "Validation dataset accuracy: 79.7%\n",
      "Minibatch loss at step: 1000: 98.879898\n",
      "Minibatch accuracy: 76.6%\n",
      "Validation dataset accuracy: 80.3%\n",
      "Minibatch loss at step: 1500: 73.096237\n",
      "Minibatch accuracy: 90.6%\n",
      "Validation dataset accuracy: 81.7%\n",
      "Minibatch loss at step: 2000: 56.606525\n",
      "Minibatch accuracy: 84.4%\n",
      "Validation dataset accuracy: 82.4%\n",
      "Minibatch loss at step: 2500: 43.671825\n",
      "Minibatch accuracy: 83.6%\n",
      "Validation dataset accuracy: 83.1%\n",
      "Minibatch loss at step: 3000: 33.988770\n",
      "Minibatch accuracy: 84.4%\n",
      "Validation dataset accuracy: 85.0%\n",
      "Minibatch loss at step: 3500: 26.555674\n",
      "Minibatch accuracy: 86.7%\n",
      "Validation dataset accuracy: 85.8%\n",
      "Minibatch loss at step: 4000: 20.655241\n",
      "Minibatch accuracy: 90.6%\n",
      "Validation dataset accuracy: 86.1%\n",
      "Minibatch loss at step: 4500: 16.199919\n",
      "Minibatch accuracy: 87.5%\n",
      "Validation dataset accuracy: 86.0%\n",
      "Minibatch loss at step: 5000: 12.586267\n",
      "Minibatch accuracy: 89.8%\n",
      "Validation dataset accuracy: 87.1%\n",
      "Minibatch loss at step: 5500: 9.986712\n",
      "Minibatch accuracy: 86.7%\n",
      "Validation dataset accuracy: 87.3%\n",
      "Minibatch loss at step: 6000: 7.930707\n",
      "Minibatch accuracy: 87.5%\n",
      "Validation dataset accuracy: 87.8%\n",
      "Test dataset accuracy: 93.8%\n"
     ]
    }
   ],
   "source": [
    "num_steps = 6001\n",
    "\n",
    "with tf.Session(graph=graph_nn_l2) as session:\n",
    "    tf.initialize_all_variables().run()\n",
    "    print(\"Initialized\")\n",
    "    \n",
    "    for step in range(num_steps):\n",
    "        offset = (step * batch_size) % (train_labels.shape[0] - batch_size)\n",
    "        \n",
    "        batch_data = train_dataset[offset:(offset + batch_size), :]\n",
    "        batch_labels = train_labels[offset:(offset + batch_size)]\n",
    "        \n",
    "        feed_dict = {tf_train_dataset: batch_data, tf_train_labels: batch_labels}\n",
    "        _, l, predictions = session.run([optimizer, loss, train_prediction], feed_dict = feed_dict)\n",
    "        \n",
    "        if(step % 500 == 0):\n",
    "            print(\"Minibatch loss at step: %d: %f\" % (step, l))\n",
    "            print(\"Minibatch accuracy: %.1f%%\" % accuracy(predictions, batch_labels))\n",
    "            print(\"Validation dataset accuracy: %.1f%%\" % accuracy(valid_prediction.eval(), valid_labels))\n",
    "        \n",
    "    print(\"Test dataset accuracy: %.1f%%\" % accuracy(test_prediction.eval(), test_labels))"
   ]
  },
  {
   "cell_type": "markdown",
   "metadata": {},
   "source": [
    "Test accuracy: 93.8%, so far, so good."
   ]
  },
  {
   "cell_type": "markdown",
   "metadata": {
    "colab_type": "text",
    "id": "na8xX2yHZzNF"
   },
   "source": [
    "---\n",
    "Problem 2\n",
    "---------\n",
    "Let's demonstrate an extreme case of overfitting. Restrict your training data to just a few batches. What happens?\n",
    "\n",
    "---"
   ]
  },
  {
   "cell_type": "code",
   "execution_count": 31,
   "metadata": {
    "collapsed": false
   },
   "outputs": [
    {
     "name": "stdout",
     "output_type": "stream",
     "text": [
      "WARNING:tensorflow:From <ipython-input-31-e6b7d946931a>:5: initialize_all_variables (from tensorflow.python.ops.variables) is deprecated and will be removed after 2017-03-02.\n",
      "Instructions for updating:\n",
      "Use `tf.global_variables_initializer` instead.\n",
      "Initialized\n",
      "Minibatch loss at step: 0: 520.370361\n",
      "Minibatch accuracy: 13.3%\n",
      "Validation dataset accuracy: 30.5%\n",
      "Minibatch loss at step: 500: 122.112846\n",
      "Minibatch accuracy: 100.0%\n",
      "Validation dataset accuracy: 75.9%\n",
      "Minibatch loss at step: 1000: 95.098579\n",
      "Minibatch accuracy: 100.0%\n",
      "Validation dataset accuracy: 75.8%\n",
      "Minibatch loss at step: 1500: 74.060570\n",
      "Minibatch accuracy: 100.0%\n",
      "Validation dataset accuracy: 75.9%\n",
      "Minibatch loss at step: 2000: 57.676636\n",
      "Minibatch accuracy: 100.0%\n",
      "Validation dataset accuracy: 75.9%\n",
      "Minibatch loss at step: 2500: 44.917229\n",
      "Minibatch accuracy: 100.0%\n",
      "Validation dataset accuracy: 75.9%\n",
      "Minibatch loss at step: 3000: 34.980492\n",
      "Minibatch accuracy: 100.0%\n",
      "Validation dataset accuracy: 76.0%\n",
      "Test dataset accuracy: 83.2%\n"
     ]
    }
   ],
   "source": [
    "num_steps = 3001\n",
    "small_batch_data = train_dataset[:batch_size * 7, :]\n",
    "small_batch_labels = train_labels[:batch_size * 7]\n",
    "with tf.Session(graph=graph_nn_l2) as session:\n",
    "    tf.initialize_all_variables().run()\n",
    "    print(\"Initialized\")\n",
    "    \n",
    "    for step in range(num_steps):\n",
    "        offset = (step * batch_size) % (small_batch_data.shape[0] - batch_size)\n",
    "        \n",
    "        batch_data = small_batch_data[offset:(offset + batch_size), :]\n",
    "        batch_labels = small_batch_labels[offset:(offset + batch_size)]\n",
    "        \n",
    "        feed_dict = {tf_train_dataset: batch_data, tf_train_labels: batch_labels}\n",
    "        _, l, predictions = session.run([optimizer, loss, train_prediction], feed_dict = feed_dict)\n",
    "        \n",
    "        if(step % 500 == 0):\n",
    "            print(\"Minibatch loss at step: %d: %f\" % (step, l))\n",
    "            print(\"Minibatch accuracy: %.1f%%\" % accuracy(predictions, batch_labels))\n",
    "            print(\"Validation dataset accuracy: %.1f%%\" % accuracy(valid_prediction.eval(), valid_labels))\n",
    "        \n",
    "    print(\"Test dataset accuracy: %.1f%%\" % accuracy(test_prediction.eval(), test_labels))"
   ]
  },
  {
   "cell_type": "markdown",
   "metadata": {},
   "source": [
    "Training dataset accuracy reaches 100% very quickly, and the final test dataset accuracy is, in fact, not as bad as I expect."
   ]
  },
  {
   "cell_type": "markdown",
   "metadata": {
    "colab_type": "text",
    "id": "ww3SCBUdlkRc"
   },
   "source": [
    "---\n",
    "Problem 3\n",
    "---------\n",
    "Introduce Dropout on the hidden layer of the neural network. Remember: Dropout should only be introduced during training, not evaluation, otherwise your evaluation results would be stochastic as well. TensorFlow provides `nn.dropout()` for that, but you have to make sure it's only inserted during training.\n",
    "\n",
    "What happens to our extreme overfitting case?\n",
    "\n",
    "---"
   ]
  },
  {
   "cell_type": "markdown",
   "metadata": {},
   "source": [
    "** Apply drop out to one hidden layer neural network. Too see if it's better than L2 norm."
   ]
  },
  {
   "cell_type": "code",
   "execution_count": 32,
   "metadata": {
    "collapsed": false
   },
   "outputs": [],
   "source": [
    "batch_size = 128\n",
    "relu_count = 1024\n",
    "L2_weight = 0.5e-3\n",
    "\n",
    "graph_nn_dropout = tf.Graph()\n",
    "with graph_nn_dropout.as_default():\n",
    "    tf_train_dataset = tf.placeholder(tf.float32, shape=(batch_size, image_size * image_size))\n",
    "    tf_train_labels = tf.placeholder(tf.float32, shape=(batch_size, num_labels))\n",
    "    \n",
    "    tf_valid_dataset = tf.constant(valid_dataset)\n",
    "    tf_test_dataset = tf.constant(test_dataset)\n",
    "    \n",
    "    weights_hidden_layer = tf.Variable(tf.truncated_normal([image_size * image_size, relu_count]))\n",
    "    biases_hidden_layer = tf.Variable(tf.zeros(relu_count))\n",
    "    \n",
    "    weights_output_layer = tf.Variable(tf.truncated_normal([relu_count, num_labels]))\n",
    "    biases_output_layer = tf.Variable(tf.zeros(num_labels))\n",
    "    \n",
    "    hidden_layer_output = tf.nn.relu(tf.matmul(tf_train_dataset, weights_hidden_layer) + biases_hidden_layer)\n",
    "    \n",
    "#   apply drop out.\n",
    "    dropout_probablity = tf.constant(0.5)\n",
    "    output_layer_activition = tf.nn.dropout(hidden_layer_output, dropout_probablity)\n",
    "    \n",
    "    logits = tf.matmul(output_layer_activition, weights_output_layer) + biases_output_layer\\\n",
    "    + L2_weight * (tf.nn.l2_loss(weights_hidden_layer) + tf.nn.l2_loss(weights_output_layer))\n",
    "    \n",
    "    loss = tf.reduce_mean(tf.nn.softmax_cross_entropy_with_logits(logits = logits, labels = tf_train_labels))\n",
    "    \n",
    "    optimizer = tf.train.GradientDescentOptimizer(0.5e-2).minimize(loss)\n",
    "    \n",
    "    train_prediction = tf.nn.softmax(\n",
    "        tf.matmul(tf.nn.relu(\n",
    "                tf.matmul(tf_train_dataset, weights_hidden_layer) + biases_hidden_layer),\n",
    "                  weights_output_layer) \n",
    "        + biases_output_layer)\n",
    "    \n",
    "    valid_prediction = tf.nn.softmax(\n",
    "        tf.matmul(tf.nn.relu(\n",
    "                tf.matmul(tf_valid_dataset, weights_hidden_layer) + biases_hidden_layer),\n",
    "                  weights_output_layer) \n",
    "        + biases_output_layer)\n",
    "    \n",
    "    test_prediction = tf.nn.softmax(\n",
    "        tf.matmul(tf.nn.relu(\n",
    "                tf.matmul(tf_test_dataset, weights_hidden_layer) + biases_hidden_layer),\n",
    "                  weights_output_layer)\n",
    "        + biases_output_layer)"
   ]
  },
  {
   "cell_type": "code",
   "execution_count": null,
   "metadata": {
    "collapsed": false
   },
   "outputs": [
    {
     "name": "stdout",
     "output_type": "stream",
     "text": [
      "WARNING:tensorflow:From <ipython-input-33-87451024d5e6>:3: initialize_all_variables (from tensorflow.python.ops.variables) is deprecated and will be removed after 2017-03-02.\n",
      "Instructions for updating:\n",
      "Use `tf.global_variables_initializer` instead.\n",
      "Initialized\n",
      "Minibatch loss at step: 0: 501.612396\n",
      "Minibatch accuracy: 9.4%\n",
      "Validation dataset accuracy: 9.0%\n"
     ]
    }
   ],
   "source": [
    "num_steps = 6001\n",
    "with tf.Session(graph=graph_nn_dropout) as session:\n",
    "    tf.initialize_all_variables().run()\n",
    "    print(\"Initialized\")\n",
    "    \n",
    "    for step in range(num_steps):\n",
    "        offset = (step * batch_size) % (train_dataset.shape[0] - batch_size)\n",
    "        \n",
    "        batch_data = train_dataset[offset:(offset + batch_size), :]\n",
    "        batch_labels = train_labels[offset:(offset + batch_size)]\n",
    "        \n",
    "        feed_dict = {tf_train_dataset: batch_data, tf_train_labels: batch_labels}\n",
    "        _, l, predictions = session.run([optimizer, loss, train_prediction], feed_dict = feed_dict)\n",
    "        if(step % 500 == 0):\n",
    "            print(\"Minibatch loss at step: %d: %f\" % (step, l))\n",
    "            print(\"Minibatch accuracy: %.1f%%\" % accuracy(predictions, batch_labels))\n",
    "            print(\"Validation dataset accuracy: %.1f%%\" % accuracy(valid_prediction.eval(), valid_labels))\n",
    "        \n",
    "    print(\"Test dataset accuracy: %.1f%%\" % accuracy(test_prediction.eval(), test_labels))"
   ]
  },
  {
   "cell_type": "markdown",
   "metadata": {},
   "source": [
    "1. Hidden layer neurons: 1024, learning rate: 0.5, num_steps: 3001. With dropout only, Test accuracy: 87.5%\n",
    "2. Hidden layer neurons: 1024, learning rate: 0.5, num_steps: 3001. dropout + L2 norm, Test accuracy: 87.2%\n",
    "3. Hidden layer neurons: 1024, learning rate: 0.05, num_steps: 3001. dropout + L2 norm, Test accuracy: 90.6%\n",
    "4. 3. Hidden layer neurons: 1024, learning rate: 0.05, num_steps: 6001. dropout + L2 norm, Test accuracy: 90.6%"
   ]
  },
  {
   "cell_type": "markdown",
   "metadata": {
    "colab_type": "text",
    "id": "-b1hTz3VWZjw"
   },
   "source": [
    "---\n",
    "Problem 4\n",
    "---------\n",
    "\n",
    "Try to get the best performance you can using a multi-layer model! The best reported test accuracy using a deep network is [97.1%](http://yaroslavvb.blogspot.com/2011/09/notmnist-dataset.html?showComment=1391023266211#c8758720086795711595).\n",
    "\n",
    "One avenue you can explore is to add multiple layers.\n",
    "\n",
    "Another one is to use learning rate decay:\n",
    "\n",
    "    global_step = tf.Variable(0)  # count the number of steps taken.\n",
    "    learning_rate = tf.train.exponential_decay(0.5, global_step, ...)\n",
    "    optimizer = tf.train.GradientDescentOptimizer(learning_rate).minimize(loss, global_step=global_step)\n",
    " \n",
    " ---\n"
   ]
  },
  {
   "cell_type": "code",
   "execution_count": 26,
   "metadata": {
    "collapsed": false
   },
   "outputs": [],
   "source": [
    "batch_size = 128\n",
    "image_size = 28\n",
    "num_labels = 10\n",
    "layer_1_relu_counts = 512\n",
    "layer_2_relu_counts = 256\n",
    "L2_weight = 0.5e-3\n",
    "LR = 1e-3\n",
    "\n",
    "def get_scope_variable(scope_name, variable_name, shape, initializer):\n",
    "    with tf.variable_scope(scope_name) as scope:\n",
    "        try:\n",
    "            variable = tf.get_variable(variable_name, shape, initializer = initializer)\n",
    "            return variable\n",
    "        except ValueError:\n",
    "            scope.reuse_variables()\n",
    "            variable = tf.get_variable(variable_name, shape)\n",
    "            return variable\n",
    "\n",
    "def fc_nn_model_with_multi_layer(tf_train_data, image_size, layer_1_relu_counts, layer_2_relu_counts, num_labels):\n",
    "    weights = get_scope_variable(\"hidden_layer_1\", \"weights\", [image_size * image_size, layer_1_relu_counts], initializer = tf.truncated_normal_initializer())\n",
    "    biases = get_scope_variable(\"hidden_layer_1\", \"biases\", [layer_1_relu_counts], initializer = tf.zeros_initializer())\n",
    "    \n",
    "    l2_norm_1 = tf.nn.l2_loss(weights)\n",
    "    \n",
    "    relu_1 = tf.nn.relu(tf.matmul(tf_train_data, weights) + biases)\n",
    "        \n",
    "    weights = get_scope_variable(\"hidden_layer_2\", \"weights\", [layer_1_relu_counts, layer_2_relu_counts], initializer = tf.truncated_normal_initializer())\n",
    "    biases = get_scope_variable(\"hidden_layer_2\", \"biases\", [layer_2_relu_counts], initializer = tf.zeros_initializer())\n",
    "    \n",
    "    l2_norm_2 = tf.nn.l2_loss(weights)\n",
    "    \n",
    "    relu_2 = tf.nn.relu(tf.matmul(relu_1, weights) + biases)\n",
    "        \n",
    "    weights = get_scope_variable(\"output_layer\", \"weights\", [layer_2_relu_counts, num_labels], initializer = tf.truncated_normal_initializer())\n",
    "    biases = get_scope_variable(\"output_layer\", \"biases\", [num_labels], initializer = tf.zeros_initializer())\n",
    "    \n",
    "    l2_norm_3 = tf.nn.l2_loss(weights)\n",
    "    \n",
    "    logits = (tf.matmul(relu_2, weights) + biases) + L2_weight * (l2_norm_1 + l2_norm_2 + l2_norm_3)\n",
    "    \n",
    "    return logits\n",
    "\n",
    "def build_loss(logits, tf_train_labels):\n",
    "    loss = tf.reduce_mean(tf.nn.softmax_cross_entropy_with_logits(logits = logits, labels = tf_train_labels))\n",
    "    return loss\n",
    "\n",
    "def get_learning_rate():\n",
    "    global_step = tf.Variable(0)\n",
    "    learning_rate = tf.train.exponential_decay(learning_rate = LR, global_step = global_step, decay_steps = 500, decay_rate = 0.90)\n",
    "    return global_step, learning_rate\n",
    "\n",
    "def evaluate_model(data, image_size, layer_1_relu_counts, layer_2_relu_counts, num_labels):\n",
    "    logits = fc_nn_model_with_multi_layer(data, image_size, layer_1_relu_counts, layer_2_relu_counts, num_labels)\n",
    "    prediction = tf.nn.softmax(logits)\n",
    "    return prediction\n",
    "\n",
    "multi_layer_nn_graph = tf.Graph()\n",
    "with multi_layer_nn_graph.as_default():\n",
    "    tf_train_data = tf.placeholder(tf.float32, shape = [batch_size, image_size * image_size])\n",
    "    tf_train_labels = tf.placeholder(tf.float32, shape = [batch_size, num_labels])\n",
    "    tf_valid_dataset = tf.constant(valid_dataset)\n",
    "    tf_test_dataset = tf.constant(test_dataset)\n",
    "    logits = fc_nn_model_with_multi_layer(tf_train_data, image_size, layer_1_relu_counts, layer_2_relu_counts, num_labels)\n",
    "    \n",
    "    loss = build_lostt_with_l2_norm(logits, tf_train_labels, L2_weight, image_size, layer_1_relu_counts, layer_2_relu_counts, num_labels)\n",
    "    \n",
    "    global_step, learning_rate = get_learning_rate()\n",
    "    optimizer = tf.train.GradientDescentOptimizer(learning_rate).minimize(loss, global_step = global_step)\n",
    "    train_prediction = tf.nn.softmax(logits)\n",
    "    valid_prediction = evaluate_model(tf_valid_dataset, image_size, layer_1_relu_counts, layer_2_relu_counts, num_labels)\n",
    "    test_prediction = evaluate_model(tf_test_dataset, image_size, layer_1_relu_counts, layer_2_relu_counts, num_labels)"
   ]
  },
  {
   "cell_type": "code",
   "execution_count": 27,
   "metadata": {
    "collapsed": false
   },
   "outputs": [
    {
     "name": "stdout",
     "output_type": "stream",
     "text": [
      "WARNING:tensorflow:From <ipython-input-27-3cdad5afb732>:3: initialize_all_variables (from tensorflow.python.ops.variables) is deprecated and will be removed after 2017-03-02.\n",
      "Instructions for updating:\n",
      "Use `tf.global_variables_initializer` instead.\n",
      "Initialized\n",
      "\n",
      "Minibatch loss at step: 0: 2221.656006\n",
      "Minibatch accuracy: 16.4%\n",
      "Minibatch loss at step: 500: 142.417206\n",
      "Minibatch accuracy: 78.9%\n",
      "Minibatch loss at step: 1000: 181.085846\n",
      "Minibatch accuracy: 73.4%\n",
      "Minibatch loss at step: 1500: 87.866066\n",
      "Minibatch accuracy: 81.2%\n",
      "Minibatch loss at step: 2000: 88.283707\n",
      "Minibatch accuracy: 80.5%\n",
      "Minibatch loss at step: 2500: 75.269264\n",
      "Minibatch accuracy: 82.0%\n",
      "Minibatch loss at step: 3000: 86.469498\n",
      "Minibatch accuracy: 75.0%\n",
      "Minibatch loss at step: 3500: 66.399673\n",
      "Minibatch accuracy: 82.8%\n",
      "Minibatch loss at step: 4000: 45.375114\n",
      "Minibatch accuracy: 80.5%\n",
      "Minibatch loss at step: 4500: 53.159958\n",
      "Minibatch accuracy: 78.1%\n",
      "Minibatch loss at step: 5000: 45.129204\n",
      "Minibatch accuracy: 82.8%\n",
      "Minibatch loss at step: 5500: 58.595623\n",
      "Minibatch accuracy: 78.1%\n",
      "Minibatch loss at step: 6000: 61.892845\n",
      "Minibatch accuracy: 78.1%\n",
      "Minibatch loss at step: 6500: 45.255348\n",
      "Minibatch accuracy: 82.8%\n",
      "Minibatch loss at step: 7000: 54.152596\n",
      "Minibatch accuracy: 75.0%\n",
      "Minibatch loss at step: 7500: 66.265625\n",
      "Minibatch accuracy: 76.6%\n",
      "Minibatch loss at step: 8000: 91.998306\n",
      "Minibatch accuracy: 70.3%\n",
      "Minibatch loss at step: 8500: 58.762859\n",
      "Minibatch accuracy: 80.5%\n",
      "Minibatch loss at step: 9000: 54.452591\n",
      "Minibatch accuracy: 77.3%\n",
      "Minibatch loss at step: 9500: 48.291908\n",
      "Minibatch accuracy: 80.5%\n",
      "Minibatch loss at step: 10000: 45.794384\n",
      "Minibatch accuracy: 77.3%\n",
      "Minibatch loss at step: 10500: 44.361893\n",
      "Minibatch accuracy: 78.9%\n",
      "Minibatch loss at step: 11000: 43.967598\n",
      "Minibatch accuracy: 82.8%\n",
      "Minibatch loss at step: 11500: 51.589401\n",
      "Minibatch accuracy: 77.3%\n",
      "Minibatch loss at step: 12000: 57.135887\n",
      "Minibatch accuracy: 68.0%\n",
      "Minibatch loss at step: 12500: 39.476261\n",
      "Minibatch accuracy: 78.1%\n",
      "Minibatch loss at step: 13000: 54.955788\n",
      "Minibatch accuracy: 74.2%\n",
      "Minibatch loss at step: 13500: 42.749100\n",
      "Minibatch accuracy: 75.8%\n",
      "Minibatch loss at step: 14000: 48.066887\n",
      "Minibatch accuracy: 74.2%\n",
      "Minibatch loss at step: 14500: 64.095207\n",
      "Minibatch accuracy: 70.3%\n",
      "Minibatch loss at step: 15000: 35.420570\n",
      "Minibatch accuracy: 78.9%\n",
      "Minibatch loss at step: 15500: 65.746780\n",
      "Minibatch accuracy: 71.9%\n",
      "Minibatch loss at step: 16000: 27.688267\n",
      "Minibatch accuracy: 87.5%\n",
      "Minibatch loss at step: 16500: 33.763908\n",
      "Minibatch accuracy: 81.2%\n",
      "Minibatch loss at step: 17000: 30.507256\n",
      "Minibatch accuracy: 80.5%\n",
      "Minibatch loss at step: 17500: 15.472170\n",
      "Minibatch accuracy: 89.8%\n",
      "Minibatch loss at step: 18000: 25.874754\n",
      "Minibatch accuracy: 82.0%\n",
      "Test accuracy: 85.2%\n"
     ]
    }
   ],
   "source": [
    "num_steps = 18001\n",
    "with tf.Session(graph = multi_layer_nn_graph) as session:\n",
    "    tf.initialize_all_variables().run()\n",
    "    print(\"Initialized\\n\")\n",
    "    \n",
    "    for step in range(num_steps):\n",
    "        offset = (step * batch_size) % (train_dataset.shape[0] - batch_size)\n",
    "        batch_data = train_dataset[offset: (offset+batch_size), :]\n",
    "        batch_labels = train_labels[offset: (offset+batch_size)]\n",
    "        \n",
    "        feed_dict = {tf_train_data: batch_data, tf_train_labels: batch_labels}\n",
    "        \n",
    "        _, loss_eval, train_prediction_eval = session.run([optimizer, loss, train_prediction], feed_dict=feed_dict)\n",
    "        if(step % 500 == 0):\n",
    "            print(\"Minibatch loss at step: %d: %f\" % (step, loss_eval))\n",
    "            print(\"Minibatch accuracy: %.1f%%\" % accuracy(train_prediction_eval, batch_labels))\n",
    "\n",
    "    test_prediction_eval = session.run(test_prediction)\n",
    "    print(\"Test accuracy: %.1f%%\" % accuracy(test_prediction_eval, test_labels))"
   ]
  },
  {
   "cell_type": "code",
   "execution_count": null,
   "metadata": {
    "collapsed": true
   },
   "outputs": [],
   "source": []
  }
 ],
 "metadata": {
  "colab": {
   "default_view": {},
   "name": "3_regularization.ipynb",
   "provenance": [],
   "version": "0.3.2",
   "views": {}
  },
  "kernelspec": {
   "display_name": "Python 2",
   "language": "python",
   "name": "python2"
  },
  "language_info": {
   "codemirror_mode": {
    "name": "ipython",
    "version": 2
   },
   "file_extension": ".py",
   "mimetype": "text/x-python",
   "name": "python",
   "nbconvert_exporter": "python",
   "pygments_lexer": "ipython2",
   "version": "2.7.12"
  }
 },
 "nbformat": 4,
 "nbformat_minor": 0
}
